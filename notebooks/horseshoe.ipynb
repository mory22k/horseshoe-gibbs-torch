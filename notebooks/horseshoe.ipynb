{
 "cells": [
  {
   "cell_type": "code",
   "execution_count": 1,
   "id": "1f6e7466",
   "metadata": {},
   "outputs": [
    {
     "name": "stderr",
     "output_type": "stream",
     "text": [
      "Sampling: 100%|██████████| 100/100 [00:00<00:00, 230.54iteration/s]\n"
     ]
    }
   ],
   "source": [
    "import torch\n",
    "\n",
    "from horseshoe_gibbs_torch import HorseshoeGibbsSampler\n",
    "\n",
    "n = 256\n",
    "p = 128\n",
    "\n",
    "X = torch.randn(n, p)\n",
    "w = torch.randn(p) * torch.bernoulli(torch.ones(p) * 0.1)\n",
    "y = X @ w\n",
    "\n",
    "w_sample = HorseshoeGibbsSampler(\n",
    "    X, y\n",
    ").sample(num_mcs=100)"
   ]
  },
  {
   "cell_type": "code",
   "execution_count": 2,
   "id": "6abea448",
   "metadata": {},
   "outputs": [
    {
     "data": {
      "text/plain": [
       "0.002467607380822301"
      ]
     },
     "execution_count": 2,
     "metadata": {},
     "output_type": "execute_result"
    }
   ],
   "source": [
    "rmse = ((w_sample - w)**2).mean().sqrt()\n",
    "rmse.item()"
   ]
  }
 ],
 "metadata": {
  "kernelspec": {
   "display_name": ".venv",
   "language": "python",
   "name": "python3"
  },
  "language_info": {
   "codemirror_mode": {
    "name": "ipython",
    "version": 3
   },
   "file_extension": ".py",
   "mimetype": "text/x-python",
   "name": "python",
   "nbconvert_exporter": "python",
   "pygments_lexer": "ipython3",
   "version": "3.12.10"
  }
 },
 "nbformat": 4,
 "nbformat_minor": 5
}
